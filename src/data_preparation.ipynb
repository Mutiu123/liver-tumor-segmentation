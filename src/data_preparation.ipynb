{
 "cells": [
  {
   "cell_type": "markdown",
   "id": "adf2553e-80f1-4062-a9a4-b6549682c31e",
   "metadata": {},
   "source": [
    "Preparing data for 64 by 64 in a group"
   ]
  },
  {
   "cell_type": "code",
   "execution_count": 2,
   "id": "639a2460-e790-4f53-b4cb-5f748ad2d27d",
   "metadata": {},
   "outputs": [],
   "source": [
    "input_path = 'C:/Users/adegb/Desktop/Computer Vision Projects/Liver_tumor_segmentation_using_Unet_and_Monai/dataset/liver/DicomDataTr/images'\n",
    "output_path = 'C:/Users/adegb/Desktop/Computer Vision Projects/Liver_tumor_segmentation_using_Unet_and_Monai/dataset/liver/group_DicomDataTr/images'"
   ]
  },
  {
   "cell_type": "code",
   "execution_count": 16,
   "id": "74bd1aff-5f31-4b29-9ea8-847341be75c4",
   "metadata": {},
   "outputs": [],
   "source": [
    "from glob import glob\n",
    "import shutil\n",
    "import os\n",
    "import dicom2nifti\n",
    "import nibabel as nib\n",
    "import numpy as np"
   ]
  },
  {
   "cell_type": "code",
   "execution_count": 4,
   "id": "141e1ae3-9185-4b6e-9833-211f4765ec1a",
   "metadata": {},
   "outputs": [],
   "source": [
    "for data in sorted(glob(input_path + '/*')):\n",
    "    data_id = os.path.basename(os.path.normpath(data))\n",
    "    n_folders = int(len(sorted(glob(data+'/*')))/64)\n",
    "\n",
    "    for i in range(n_folders):\n",
    "        output_path_name = os.path.join(output_path, data_id + '_' + str(i))\n",
    "        os.mkdir(output_path_name)\n",
    "        for i, file in enumerate(sorted(glob(data+'/*'))):\n",
    "            if i == 64:\n",
    "                break\n",
    "            shutil.move(file, output_path_name)\n",
    "        "
   ]
  },
  {
   "cell_type": "markdown",
   "id": "f00b08f4-f7f5-48bf-9724-6f9b8d0e262d",
   "metadata": {},
   "source": [
    "Convert dicom files to the nifti files"
   ]
  },
  {
   "cell_type": "code",
   "execution_count": 10,
   "id": "2cec4f19-220f-400c-9d2a-3ddb4d64d293",
   "metadata": {},
   "outputs": [],
   "source": [
    "dicom_images_path = 'C:/Users/adegb/Desktop/Computer Vision Projects/Liver_tumor_segmentation_using_Unet_and_Monai/dataset/liver/group_DicomDataTr/images/*'\n",
    "dicom_labels_path = 'C:/Users/adegb/Desktop/Computer Vision Projects/Liver_tumor_segmentation_using_Unet_and_Monai/dataset/liver/group_DicomDataTr/labels/*'\n",
    "nifti_images_path = 'C:/Users/adegb/Desktop/Computer Vision Projects/Liver_tumor_segmentation_using_Unet_and_Monai/dataset/liver/group_NiftiData_Tr/images'\n",
    "nifti_labels_path = 'C:/Users/adegb/Desktop/Computer Vision Projects/Liver_tumor_segmentation_using_Unet_and_Monai/dataset/liver/group_NiftiData_Tr/labels'\n",
    "\n",
    "nifti_images_list = sorted(glob(dicom_images_path))\n",
    "nifti_labels_list = sorted(glob(dicom_labels_path))"
   ]
  },
  {
   "cell_type": "code",
   "execution_count": 12,
   "id": "488a8890-20eb-4ada-bfaa-ef5e6f7b3def",
   "metadata": {},
   "outputs": [],
   "source": [
    "for data in nifti_labels_list:\n",
    "    data_id = os.path.basename(os.path.normpath(data))\n",
    "    dicom2nifti.dicom_series_to_nifti(data, os.path.join(nifti_labels_path, data_id + '.nii.gz'))"
   ]
  },
  {
   "cell_type": "markdown",
   "id": "576df444-08c4-4446-b29a-f13f2ab52811",
   "metadata": {},
   "source": [
    "Check empy organ or labelsll i.e check for the background and foreground"
   ]
  },
  {
   "cell_type": "code",
   "execution_count": 43,
   "id": "2041fcdc-3d6e-43da-bd89-fd3351bf5000",
   "metadata": {},
   "outputs": [],
   "source": [
    "input_nifti_labels_path = 'C:/Users/adegb/Desktop/Computer Vision Projects/Liver_tumor_segmentation_using_Unet_and_Monai/dataset/liver/group_NiftiData_Tr/labels/*'\n",
    "nifti_labels_list = sorted(glob(input_nifti_labels_path))\n",
    "\n",
    "for data in nifti_labels_list:\n",
    "    nifti_label_file = nib.load(data)\n",
    "    fdata = nifti_label_file.get_fdata() # get frame data->fdata\n",
    "    np_unique = np.unique(fdata)         #calculate the unique value\n",
    "    if len(np_unique) == 1:\n",
    "        print(data)\n",
    "        #os.remove(data)\n",
    "       \n",
    "     "
   ]
  },
  {
   "cell_type": "code",
   "execution_count": null,
   "id": "4b3d2939-0ed9-4e03-8336-41154772a7cc",
   "metadata": {},
   "outputs": [],
   "source": []
  }
 ],
 "metadata": {
  "kernelspec": {
   "display_name": "ML-WK",
   "language": "python",
   "name": "python3"
  },
  "language_info": {
   "codemirror_mode": {
    "name": "ipython",
    "version": 3
   },
   "file_extension": ".py",
   "mimetype": "text/x-python",
   "name": "python",
   "nbconvert_exporter": "python",
   "pygments_lexer": "ipython3",
   "version": "3.11.5"
  }
 },
 "nbformat": 4,
 "nbformat_minor": 5
}
